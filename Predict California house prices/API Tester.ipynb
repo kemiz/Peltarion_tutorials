{
  "nbformat": 4,
  "nbformat_minor": 0,
  "metadata": {
    "colab": {
      "name": "California house price prediction demo",
      "version": "0.3.2",
      "provenance": []
    },
    "kernelspec": {
      "name": "python3",
      "display_name": "Python 3"
    }
  },
  "cells": [
    {
      "cell_type": "markdown",
      "metadata": {
        "id": "tfJ6xgn0nhfv",
        "colab_type": "text"
      },
      "source": [
        "# House price prediction"
      ]
    },
    {
      "cell_type": "code",
      "metadata": {
        "id": "-Zxz_SbGOeKB",
        "colab_type": "code",
        "cellView": "form",
        "colab": {}
      },
      "source": [
        "#@markdown Install Peltarion Sidekick\n",
        "!pip install git+https://github.com/Peltarion/sidekick#egg=sidekick"
      ],
      "execution_count": 0,
      "outputs": []
    },
    {
      "cell_type": "code",
      "metadata": {
        "id": "JIruhfSIPA6r",
        "colab_type": "code",
        "cellView": "form",
        "colab": {}
      },
      "source": [
        "import sidekick\n",
        "\n",
        "#@markdown Configure Peltarion API\n",
        "url = '' #@param {type: \"string\"}\n",
        "token = '' #@param {type: \"string\"}\n",
        "\n",
        "client = sidekick.Deployment(\n",
        "    url=url,\n",
        "    token=token,\n",
        "    dtypes_in={\n",
        "        'housingMedianAge': 'Float (1)', \n",
        "        'households': 'Float (1)', \n",
        "        'totalBedrooms': 'Float (1)', \n",
        "        'totalRooms': 'Float (1)', \n",
        "        'medianIncome': 'Float (1)', \n",
        "        'image_path': 'Image (256x256x3)',\n",
        "        'population': 'Float (1)'},\n",
        "    dtypes_out={'medianHouseValue': 'Float (1)'}\n",
        ")"
      ],
      "execution_count": 0,
      "outputs": []
    },
    {
      "cell_type": "code",
      "metadata": {
        "id": "0-j_E2FPcYAC",
        "colab_type": "code",
        "cellView": "form",
        "colab": {}
      },
      "source": [
        "from PIL import Image\n",
        "import requests\n",
        "from io import BytesIO\n",
        "from google.colab.patches import cv2_imshow\n",
        "import cv2\n",
        "from google.colab import files\n",
        "\n",
        "#@markdown Upload map image\n",
        "\n",
        "uploaded = files.upload()\n",
        "\n",
        "for fn in uploaded.keys():\n",
        "  print('User uploaded file \"{name}\" with length {length} bytes'.format(\n",
        "      name=fn, length=len(uploaded[fn])))\n",
        "\n",
        "image = Image.open(fn)\n",
        "image = image.convert('RGB')\n",
        "image.format = 'PNG'\n",
        "image.save(fn)\n",
        "\n",
        "img = cv2.imread(fn, cv2.IMREAD_UNCHANGED)\n",
        "cv2_imshow(img)"
      ],
      "execution_count": 0,
      "outputs": []
    },
    {
      "cell_type": "code",
      "metadata": {
        "id": "T0sUb8ksQZ21",
        "colab_type": "code",
        "cellView": "form",
        "colab": {}
      },
      "source": [
        "from PIL import Image\n",
        "import requests\n",
        "from io import BytesIO\n",
        "import IPython\n",
        "\n",
        "#@markdown Setup properties\n",
        "\n",
        "housingMedianAge = 14  #@param {type: \"slider\", min: 1, max: 52}\n",
        "households = 733  #@param {type: \"slider\", min: 1, max: 6082}\n",
        "totalBedrooms = 2196  #@param {type: \"slider\", min: 1, max: 6445}\n",
        "totalRooms = 12201  #@param {type: \"slider\", min: 2, max: 39320}\n",
        "medianIncome = 56233  #@param {type: \"slider\", min: 4999, max: 150001}\n",
        "population = 10300  #@param {type: \"slider\", min: 3, max: 35682}\n",
        "\n",
        "# Get predictions from model\n",
        "prediction=client.predict(\n",
        "    image=image,\n",
        "    housingMedianAge=float(housingMedianAge),\n",
        "    households=float(households),\n",
        "    totalBedrooms=float(totalBedrooms),\n",
        "    totalRooms=float(totalRooms),\n",
        "    medianIncome=float(medianIncome/1000),\n",
        "    image_path=image,\n",
        "    population=float(population)\n",
        ")\n",
        "\n",
        "houseMedianPrice = prediction[\"medianHouseValue\"]\n",
        "printText = '% 3.0f' % houseMedianPrice\n",
        "\n",
        "html = \"<h1>Estimated house value = <i> $\" + str(printText) + \"</i></h1>\"\n",
        "IPython.display.HTML(html)"
      ],
      "execution_count": 0,
      "outputs": []
    }
  ]
}
